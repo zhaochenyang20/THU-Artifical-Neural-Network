{
 "cells": [
  {
   "cell_type": "markdown",
   "metadata": {},
   "source": [
    "1. 安装 PyTorch"
   ]
  },
  {
   "cell_type": "code",
   "execution_count": null,
   "metadata": {
    "execution": {
     "iopub.execute_input": "2022-09-16T13:25:24.944994Z",
     "iopub.status.busy": "2022-09-16T13:25:24.944400Z"
    }
   },
   "outputs": [],
   "source": [
    "!pip3 install torch"
   ]
  },
  {
   "cell_type": "markdown",
   "metadata": {},
   "source": [
    "2. 测试 GPU 可用性"
   ]
  },
  {
   "cell_type": "code",
   "execution_count": null,
   "metadata": {
    "execution": {
     "iopub.execute_input": "2022-09-16T13:33:04.157474Z",
     "iopub.status.busy": "2022-09-16T13:33:04.156920Z",
     "iopub.status.idle": "2022-09-16T13:33:04.166955Z",
     "shell.execute_reply": "2022-09-16T13:33:04.165520Z",
     "shell.execute_reply.started": "2022-09-16T13:33:04.157404Z"
    }
   },
   "outputs": [],
   "source": [
    "import torch\n",
    "print(torch.cuda.is_available())\n",
    "print(torch.cuda.device_count())"
   ]
  },
  {
   "cell_type": "markdown",
   "metadata": {},
   "source": [
    "3. 查看 GPU 信息"
   ]
  },
  {
   "cell_type": "code",
   "execution_count": null,
   "metadata": {
    "execution": {
     "iopub.execute_input": "2022-09-16T13:32:53.936045Z",
     "iopub.status.busy": "2022-09-16T13:32:53.935398Z",
     "iopub.status.idle": "2022-09-16T13:32:54.524567Z",
     "shell.execute_reply": "2022-09-16T13:32:54.523239Z",
     "shell.execute_reply.started": "2022-09-16T13:32:53.935984Z"
    }
   },
   "outputs": [],
   "source": [
    "!nvidia-smi"
   ]
  }
 ],
 "metadata": {
  "kernelspec": {
   "display_name": "Python 3.6.5 32-bit",
   "language": "python",
   "name": "python3"
  },
  "language_info": {
   "codemirror_mode": {
    "name": "ipython",
    "version": 3
   },
   "file_extension": ".py",
   "mimetype": "text/x-python",
   "name": "python",
   "nbconvert_exporter": "python",
   "pygments_lexer": "ipython3",
   "version": "3.6.5"
  },
  "vscode": {
   "interpreter": {
    "hash": "56d58471fa82f2e2d8acea901b8942cda978922ae697f1672349424f0307af68"
   }
  }
 },
 "nbformat": 4,
 "nbformat_minor": 4
}
