{
 "cells": [
  {
   "cell_type": "markdown",
   "metadata": {},
   "source": [
    "1. 进入 `HW1` 目录"
   ]
  },
  {
   "cell_type": "code",
   "execution_count": 6,
   "metadata": {
    "execution": {
     "iopub.execute_input": "2022-09-16T11:56:18.728270Z",
     "iopub.status.busy": "2022-09-16T11:56:18.727866Z",
     "iopub.status.idle": "2022-09-16T11:56:18.732569Z",
     "shell.execute_reply": "2022-09-16T11:56:18.731705Z",
     "shell.execute_reply.started": "2022-09-16T11:56:18.728245Z"
    }
   },
   "outputs": [],
   "source": [
    "import os\n",
    "os.chdir(\"/home/megstudio/workspace/HW1/\")"
   ]
  },
  {
   "cell_type": "markdown",
   "metadata": {},
   "source": [
    "2. 查看目录下文件"
   ]
  },
  {
   "cell_type": "code",
   "execution_count": null,
   "metadata": {
    "execution": {
     "iopub.execute_input": "2022-09-16T11:56:22.367789Z",
     "iopub.status.busy": "2022-09-16T11:56:22.367221Z",
     "iopub.status.idle": "2022-09-16T11:56:22.983481Z",
     "shell.execute_reply": "2022-09-16T11:56:22.982269Z",
     "shell.execute_reply.started": "2022-09-16T11:56:22.367746Z"
    }
   },
   "outputs": [],
   "source": [
    "!ls"
   ]
  },
  {
   "cell_type": "markdown",
   "metadata": {},
   "source": [
    "3. 运行作业程序"
   ]
  },
  {
   "cell_type": "code",
   "execution_count": null,
   "metadata": {
    "collapsed": true,
    "execution": {
     "iopub.execute_input": "2022-09-16T13:19:55.265806Z",
     "iopub.status.busy": "2022-09-16T13:19:55.264980Z",
     "iopub.status.idle": "2022-09-16T13:20:37.031854Z",
     "shell.execute_reply": "2022-09-16T13:20:37.030934Z",
     "shell.execute_reply.started": "2022-09-16T13:19:55.265617Z"
    },
    "jupyter": {
     "outputs_hidden": true
    }
   },
   "outputs": [],
   "source": [
    "!python3 run_mlp.py"
   ]
  }
 ],
 "metadata": {
  "kernelspec": {
   "display_name": "Python 3.6.5 32-bit",
   "language": "python",
   "name": "python3"
  },
  "language_info": {
   "codemirror_mode": {
    "name": "ipython",
    "version": 3
   },
   "file_extension": ".py",
   "mimetype": "text/x-python",
   "name": "python",
   "nbconvert_exporter": "python",
   "pygments_lexer": "ipython3",
   "version": "3.6.5"
  },
  "vscode": {
   "interpreter": {
    "hash": "56d58471fa82f2e2d8acea901b8942cda978922ae697f1672349424f0307af68"
   }
  }
 },
 "nbformat": 4,
 "nbformat_minor": 4
}
